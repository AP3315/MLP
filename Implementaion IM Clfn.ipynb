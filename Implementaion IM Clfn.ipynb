{
 "cells": [
  {
   "cell_type": "code",
   "execution_count": 2,
   "metadata": {},
   "outputs": [
    {
     "name": "stderr",
     "output_type": "stream",
     "text": [
      "Using TensorFlow backend.\n"
     ]
    }
   ],
   "source": [
    "import os\n",
    "from pathlib import Path\n",
    "from keras.preprocessing import image"
   ]
  },
  {
   "cell_type": "code",
   "execution_count": 3,
   "metadata": {},
   "outputs": [],
   "source": [
    "p=Path('.')"
   ]
  },
  {
   "cell_type": "code",
   "execution_count": 4,
   "metadata": {},
   "outputs": [
    {
     "data": {
      "text/plain": [
       "WindowsPath('D:/Jupyter Sketch/999.DS/29.Image(pok.) classification using NN')"
      ]
     },
     "execution_count": 4,
     "metadata": {},
     "output_type": "execute_result"
    }
   ],
   "source": [
    "p.resolve()"
   ]
  },
  {
   "cell_type": "code",
   "execution_count": 5,
   "metadata": {},
   "outputs": [
    {
     "name": "stdout",
     "output_type": "stream",
     "text": [
      ".ipynb_checkpoints\n",
      "1.Processing dataset.ipynb\n",
      "dataset\n"
     ]
    }
   ],
   "source": [
    "for i in p.iterdir():\n",
    "    print(i)"
   ]
  },
  {
   "cell_type": "code",
   "execution_count": 6,
   "metadata": {},
   "outputs": [
    {
     "name": "stdout",
     "output_type": "stream",
     "text": [
      "<class 'pathlib.WindowsPath'>\n"
     ]
    }
   ],
   "source": [
    "print(type(p))"
   ]
  },
  {
   "cell_type": "code",
   "execution_count": 7,
   "metadata": {},
   "outputs": [
    {
     "name": "stdout",
     "output_type": "stream",
     "text": [
      "dataset\\balbasaur\\397.jpg\n",
      "dataset\\balbasaur\\398.jpg\n",
      "dataset\\balbasaur\\399.jpg\n",
      "dataset\\balbasaur\\400.jpg\n",
      "dataset\\balbasaur\\401.jpg\n",
      "dataset\\balbasaur\\402.jpg\n",
      "dataset\\balbasaur\\403.jpg\n",
      "dataset\\balbasaur\\404.jpg\n",
      "dataset\\balbasaur\\405.jpg\n",
      "dataset\\balbasaur\\406.jpg\n",
      "dataset\\balbasaur\\407.jpg\n",
      "dataset\\balbasaur\\408.jpg\n",
      "dataset\\balbasaur\\409.jpg\n",
      "dataset\\balbasaur\\410.jpg\n",
      "dataset\\balbasaur\\411.jpg\n",
      "dataset\\balbasaur\\412.jpg\n",
      "dataset\\balbasaur\\413.jpg\n",
      "dataset\\balbasaur\\414.jpg\n",
      "dataset\\balbasaur\\415.jpg\n",
      "dataset\\balbasaur\\416.jpg\n",
      "dataset\\balbasaur\\417.jpg\n",
      "dataset\\balbasaur\\418.jpg\n",
      "dataset\\balbasaur\\419.jpg\n",
      "dataset\\balbasaur\\420.jpg\n",
      "dataset\\balbasaur\\421.jpg\n",
      "dataset\\balbasaur\\422.jpg\n",
      "dataset\\balbasaur\\423.jpg\n",
      "dataset\\balbasaur\\424.jpg\n",
      "dataset\\balbasaur\\425.jpg\n",
      "dataset\\balbasaur\\426.jpg\n",
      "dataset\\balbasaur\\427.jpg\n",
      "dataset\\balbasaur\\428.jpg\n",
      "dataset\\balbasaur\\429.jpg\n",
      "dataset\\balbasaur\\430.jpg\n",
      "dataset\\balbasaur\\431.jpg\n",
      "dataset\\balbasaur\\432.jpg\n",
      "dataset\\balbasaur\\433.jpg\n",
      "dataset\\balbasaur\\434.jpg\n",
      "dataset\\balbasaur\\435.jpg\n",
      "dataset\\balbasaur\\436.jpg\n",
      "dataset\\balbasaur\\437.jpg\n",
      "dataset\\balbasaur\\438.jpg\n",
      "dataset\\balbasaur\\439.jpg\n",
      "dataset\\balbasaur\\440.jpg\n",
      "dataset\\balbasaur\\441.jpg\n",
      "dataset\\balbasaur\\442.jpg\n",
      "dataset\\balbasaur\\443.jpg\n",
      "dataset\\balbasaur\\444.jpg\n",
      "dataset\\balbasaur\\445.jpg\n",
      "dataset\\balbasaur\\446.jpg\n",
      "dataset\\balbasaur\\447.jpg\n",
      "dataset\\balbasaur\\448.jpg\n",
      "dataset\\balbasaur\\449.jpg\n",
      "dataset\\balbasaur\\450.jpg\n",
      "dataset\\balbasaur\\451.jpg\n",
      "dataset\\balbasaur\\452.jpg\n",
      "dataset\\balbasaur\\453.jpg\n",
      "dataset\\balbasaur\\454.jpg\n",
      "dataset\\balbasaur\\455.jpg\n",
      "dataset\\balbasaur\\456.jpg\n",
      "dataset\\balbasaur\\457.jpg\n",
      "dataset\\balbasaur\\458.jpg\n",
      "dataset\\balbasaur\\459.jpg\n",
      "dataset\\balbasaur\\460.jpg\n",
      "dataset\\balbasaur\\461.jpg\n",
      "dataset\\balbasaur\\462.jpg\n",
      "dataset\\balbasaur\\463.jpg\n",
      "dataset\\balbasaur\\464.jpg\n",
      "dataset\\balbasaur\\465.jpg\n",
      "dataset\\balbasaur\\466.jpg\n",
      "dataset\\balbasaur\\467.jpg\n",
      "dataset\\balbasaur\\468.jpg\n",
      "dataset\\balbasaur\\469.jpg\n",
      "dataset\\balbasaur\\470.jpg\n",
      "dataset\\balbasaur\\471.jpg\n",
      "dataset\\balbasaur\\472.jpg\n",
      "dataset\\balbasaur\\473.jpg\n",
      "dataset\\balbasaur\\474.jpg\n",
      "dataset\\balbasaur\\475.jpg\n",
      "dataset\\balbasaur\\476.jpg\n",
      "dataset\\balbasaur\\477.jpg\n",
      "dataset\\balbasaur\\478.jpg\n",
      "dataset\\balbasaur\\479.jpg\n",
      "dataset\\balbasaur\\480.jpg\n",
      "dataset\\balbasaur\\481.jpg\n",
      "dataset\\balbasaur\\482.jpg\n",
      "dataset\\balbasaur\\483.jpg\n",
      "dataset\\balbasaur\\484.jpg\n",
      "dataset\\balbasaur\\485.jpg\n",
      "dataset\\balbasaur\\486.jpg\n",
      "dataset\\balbasaur\\487.jpg\n",
      "dataset\\balbasaur\\488.jpg\n",
      "dataset\\balbasaur\\489.jpg\n",
      "dataset\\balbasaur\\490.jpg\n",
      "dataset\\balbasaur\\491.jpg\n",
      "dataset\\balbasaur\\492.jpg\n",
      "dataset\\balbasaur\\493.jpg\n",
      "dataset\\balbasaur\\494.jpg\n",
      "dataset\\balbasaur\\495.jpg\n",
      "dataset\\balbasaur\\496.jpg\n",
      "dataset\\balbasaur\\497.jpg\n",
      "dataset\\diano\\498.jpg\n",
      "dataset\\diano\\520.jpg\n",
      "dataset\\diano\\521.jpg\n",
      "dataset\\diano\\522.jpg\n",
      "dataset\\diano\\523.jpg\n",
      "dataset\\diano\\524.jpg\n",
      "dataset\\diano\\525.jpg\n",
      "dataset\\diano\\526.jpg\n",
      "dataset\\diano\\527.jpg\n",
      "dataset\\diano\\528.jpg\n",
      "dataset\\diano\\529.jpg\n",
      "dataset\\diano\\530.jpg\n",
      "dataset\\diano\\531.jpg\n",
      "dataset\\diano\\532.jpg\n",
      "dataset\\diano\\533.jpg\n",
      "dataset\\diano\\534.jpg\n",
      "dataset\\diano\\535.jpg\n",
      "dataset\\diano\\536.jpg\n",
      "dataset\\diano\\537.jpg\n",
      "dataset\\diano\\538.jpg\n",
      "dataset\\diano\\539.jpg\n",
      "dataset\\diano\\540.jpg\n",
      "dataset\\diano\\541.jpg\n",
      "dataset\\diano\\542.jpg\n",
      "dataset\\diano\\543.jpg\n",
      "dataset\\diano\\544.jpg\n",
      "dataset\\diano\\545.jpg\n",
      "dataset\\diano\\546.jpg\n",
      "dataset\\diano\\547.jpg\n",
      "dataset\\diano\\548.jpg\n",
      "dataset\\diano\\549.jpg\n",
      "dataset\\diano\\550.jpg\n",
      "dataset\\diano\\551.jpg\n",
      "dataset\\diano\\552.jpg\n",
      "dataset\\diano\\553.jpg\n",
      "dataset\\diano\\554.jpg\n",
      "dataset\\diano\\555.jpg\n",
      "dataset\\diano\\556.jpg\n",
      "dataset\\diano\\557.jpg\n",
      "dataset\\diano\\558.jpg\n",
      "dataset\\diano\\559.jpg\n",
      "dataset\\diano\\560.jpg\n",
      "dataset\\diano\\561.jpg\n",
      "dataset\\diano\\562.jpg\n",
      "dataset\\diano\\563.jpg\n",
      "dataset\\diano\\564.jpg\n",
      "dataset\\diano\\565.jpg\n",
      "dataset\\diano\\566.jpg\n",
      "dataset\\diano\\567.jpg\n",
      "dataset\\diano\\568.jpg\n",
      "dataset\\diano\\569.jpg\n",
      "dataset\\diano\\570.jpg\n",
      "dataset\\diano\\571.jpg\n",
      "dataset\\diano\\572.jpg\n",
      "dataset\\diano\\573.jpg\n",
      "dataset\\diano\\574.jpg\n",
      "dataset\\diano\\575.jpg\n",
      "dataset\\diano\\576.jpg\n",
      "dataset\\diano\\577.jpg\n",
      "dataset\\diano\\578.jpg\n",
      "dataset\\diano\\579.jpg\n",
      "dataset\\diano\\580.jpg\n",
      "dataset\\diano\\581.jpg\n",
      "dataset\\diano\\582.jpg\n",
      "dataset\\diano\\583.jpg\n",
      "dataset\\diano\\584.jpg\n",
      "dataset\\diano\\585.jpg\n",
      "dataset\\diano\\586.jpg\n",
      "dataset\\diano\\587.jpg\n",
      "dataset\\diano\\588.jpg\n",
      "dataset\\diano\\589.jpg\n",
      "dataset\\diano\\590.jpg\n",
      "dataset\\diano\\591.jpg\n",
      "dataset\\diano\\592.jpg\n",
      "dataset\\diano\\593.jpg\n",
      "dataset\\diano\\594.jpg\n",
      "dataset\\diano\\595.jpg\n",
      "dataset\\diano\\596.jpg\n",
      "dataset\\diano\\597.jpg\n",
      "dataset\\diano\\598.jpg\n",
      "dataset\\diano\\599.jpg\n",
      "dataset\\diano\\600.jpg\n",
      "dataset\\diano\\601.jpg\n",
      "dataset\\diano\\602.jpg\n",
      "dataset\\diano\\603.jpg\n",
      "dataset\\diano\\604.jpg\n",
      "dataset\\diano\\605.jpg\n",
      "dataset\\diano\\606.jpg\n",
      "dataset\\diano\\607.jpg\n",
      "dataset\\diano\\608.jpg\n",
      "dataset\\diano\\609.jpg\n",
      "dataset\\diano\\610.jpg\n",
      "dataset\\diano\\611.jpg\n",
      "dataset\\diano\\612.jpg\n",
      "dataset\\diano\\613.jpg\n",
      "dataset\\diano\\614.jpg\n",
      "dataset\\diano\\615.jpg\n",
      "dataset\\diano\\616.jpg\n",
      "dataset\\diano\\617.jpg\n",
      "dataset\\diano\\618.jpg\n",
      "dataset\\diano\\619.jpg\n",
      "dataset\\diano\\620.jpg\n",
      "dataset\\pikachu\\296.jpg\n",
      "dataset\\pikachu\\297.jpg\n",
      "dataset\\pikachu\\298.jpg\n",
      "dataset\\pikachu\\299.jpg\n",
      "dataset\\pikachu\\300.jpg\n",
      "dataset\\pikachu\\301.jpg\n",
      "dataset\\pikachu\\302.jpg\n",
      "dataset\\pikachu\\303.jpg\n",
      "dataset\\pikachu\\304.jpg\n",
      "dataset\\pikachu\\305.jpg\n",
      "dataset\\pikachu\\306.jpg\n",
      "dataset\\pikachu\\307.jpg\n",
      "dataset\\pikachu\\308.jpg\n",
      "dataset\\pikachu\\309.jpg\n",
      "dataset\\pikachu\\310.jpg\n",
      "dataset\\pikachu\\311.jpg\n",
      "dataset\\pikachu\\312.jpg\n",
      "dataset\\pikachu\\313.jpg\n",
      "dataset\\pikachu\\314.jpg\n",
      "dataset\\pikachu\\315.jpg\n",
      "dataset\\pikachu\\316.jpg\n",
      "dataset\\pikachu\\317.jpg\n",
      "dataset\\pikachu\\318.jpg\n",
      "dataset\\pikachu\\319.jpg\n",
      "dataset\\pikachu\\320.jpg\n",
      "dataset\\pikachu\\321.jpg\n",
      "dataset\\pikachu\\322.jpg\n",
      "dataset\\pikachu\\323.jpg\n",
      "dataset\\pikachu\\324.jpg\n",
      "dataset\\pikachu\\325.jpg\n",
      "dataset\\pikachu\\326.jpg\n",
      "dataset\\pikachu\\327.jpg\n",
      "dataset\\pikachu\\328.jpg\n",
      "dataset\\pikachu\\329.jpg\n",
      "dataset\\pikachu\\330.jpg\n",
      "dataset\\pikachu\\331.jpg\n",
      "dataset\\pikachu\\332.jpg\n",
      "dataset\\pikachu\\333.jpg\n",
      "dataset\\pikachu\\334.jpg\n",
      "dataset\\pikachu\\335.jpg\n",
      "dataset\\pikachu\\336.jpg\n",
      "dataset\\pikachu\\337.jpg\n",
      "dataset\\pikachu\\338.jpg\n",
      "dataset\\pikachu\\339.jpg\n",
      "dataset\\pikachu\\340.jpg\n",
      "dataset\\pikachu\\341.jpg\n",
      "dataset\\pikachu\\342.jpg\n",
      "dataset\\pikachu\\343.jpg\n",
      "dataset\\pikachu\\344.jpg\n",
      "dataset\\pikachu\\345.jpg\n",
      "dataset\\pikachu\\346.jpg\n",
      "dataset\\pikachu\\347.jpg\n",
      "dataset\\pikachu\\348.jpg\n",
      "dataset\\pikachu\\349.jpg\n",
      "dataset\\pikachu\\350.jpg\n",
      "dataset\\pikachu\\351.jpg\n",
      "dataset\\pikachu\\352.jpg\n",
      "dataset\\pikachu\\353.jpg\n",
      "dataset\\pikachu\\354.jpg\n",
      "dataset\\pikachu\\355.jpg\n",
      "dataset\\pikachu\\356.jpg\n",
      "dataset\\pikachu\\357.jpg\n",
      "dataset\\pikachu\\358.jpg\n",
      "dataset\\pikachu\\359.jpg\n",
      "dataset\\pikachu\\360.jpg\n",
      "dataset\\pikachu\\361.jpg\n",
      "dataset\\pikachu\\362.jpg\n",
      "dataset\\pikachu\\363.jpg\n",
      "dataset\\pikachu\\364.jpg\n",
      "dataset\\pikachu\\365.jpg\n",
      "dataset\\pikachu\\366.jpg\n",
      "dataset\\pikachu\\367.jpg\n",
      "dataset\\pikachu\\368.jpg\n",
      "dataset\\pikachu\\369.jpg\n",
      "dataset\\pikachu\\370.jpg\n",
      "dataset\\pikachu\\371.jpg\n",
      "dataset\\pikachu\\372.jpg\n",
      "dataset\\pikachu\\373.jpg\n",
      "dataset\\pikachu\\374.jpg\n",
      "dataset\\pikachu\\375.jpg\n",
      "dataset\\pikachu\\376.jpg\n",
      "dataset\\pikachu\\377.jpg\n",
      "dataset\\pikachu\\378.jpg\n",
      "dataset\\pikachu\\379.jpg\n",
      "dataset\\pikachu\\380.jpg\n",
      "dataset\\pikachu\\381.jpg\n",
      "dataset\\pikachu\\382.jpg\n",
      "dataset\\pikachu\\383.jpg\n",
      "dataset\\pikachu\\384.jpg\n",
      "dataset\\pikachu\\385.jpg\n",
      "dataset\\pikachu\\386.jpg\n",
      "dataset\\pikachu\\387.jpg\n",
      "dataset\\pikachu\\388.jpg\n",
      "dataset\\pikachu\\389.jpg\n",
      "dataset\\pikachu\\390.jpg\n",
      "dataset\\pikachu\\391.jpg\n",
      "dataset\\pikachu\\392.jpg\n",
      "dataset\\pikachu\\393.jpg\n",
      "dataset\\pikachu\\394.jpg\n",
      "dataset\\pikachu\\395.jpg\n",
      "dataset\\pikachu\\396.jpg\n"
     ]
    }
   ],
   "source": [
    "dirs=p.glob('*')   #* means everything\n",
    "for i in dirs:              #note that the type of i is same as above p hence we can easily use .glob on\n",
    "    indirs=i.glob('*')                                                           #both of them\n",
    "    for j in indirs:\n",
    "        #print(j)\n",
    "        for k in j.glob('*.jpg'):\n",
    "            print(k)\n"
   ]
  },
  {
   "cell_type": "code",
   "execution_count": null,
   "metadata": {},
   "outputs": [],
   "source": []
  },
  {
   "cell_type": "code",
   "execution_count": null,
   "metadata": {},
   "outputs": [],
   "source": []
  },
  {
   "cell_type": "code",
   "execution_count": null,
   "metadata": {},
   "outputs": [],
   "source": []
  },
  {
   "cell_type": "code",
   "execution_count": 8,
   "metadata": {},
   "outputs": [
    {
     "name": "stdout",
     "output_type": "stream",
     "text": [
      "<class 'pathlib.WindowsPath'>\n",
      "<class 'pathlib.WindowsPath'>\n",
      "dataset\n"
     ]
    }
   ],
   "source": [
    "dirs=p.glob('*')   \n",
    "for i in dirs:              \n",
    "    if(i.is_dir()):                                 \n",
    "        indirs=i         #note i or indirs is only path actually windows path and it can never be used \n",
    "        print(type(indirs))   #to iterate the folder for that we generator object and that is given \n",
    "print(indirs)                 #by only glob function or dircttly we can use the iterdir() which converts\n",
    "                                    #a wimdows path object to generator object as in next"
   ]
  },
  {
   "cell_type": "code",
   "execution_count": 9,
   "metadata": {},
   "outputs": [
    {
     "name": "stdout",
     "output_type": "stream",
     "text": [
      "dataset\\.ipynb_checkpoints\n",
      "dataset\\balbasaur\n",
      "dataset\\diano\n",
      "dataset\\pikachu\n"
     ]
    }
   ],
   "source": [
    "for j in indirs.iterdir():             \n",
    "    print(j)"
   ]
  },
  {
   "cell_type": "code",
   "execution_count": null,
   "metadata": {},
   "outputs": [],
   "source": []
  },
  {
   "cell_type": "code",
   "execution_count": null,
   "metadata": {},
   "outputs": [],
   "source": []
  },
  {
   "cell_type": "code",
   "execution_count": null,
   "metadata": {},
   "outputs": [],
   "source": []
  },
  {
   "cell_type": "code",
   "execution_count": 10,
   "metadata": {},
   "outputs": [
    {
     "name": "stdout",
     "output_type": "stream",
     "text": [
      "<class 'generator'>\n",
      "<class 'generator'>\n",
      "<generator object Path.glob at 0x000001BC0E5E2A20>\n"
     ]
    }
   ],
   "source": [
    "# or\n",
    "indirs=1\n",
    "dirs=p.glob('*')   \n",
    "for i in dirs:              \n",
    "    if(i.is_dir()):                                 \n",
    "        indirs=i.glob('*')\n",
    "        print(type(indirs))\n",
    "print(indirs)                      #indirs gets vanished after one use i dont know why"
   ]
  },
  {
   "cell_type": "code",
   "execution_count": 11,
   "metadata": {},
   "outputs": [
    {
     "name": "stdout",
     "output_type": "stream",
     "text": [
      "dataset\\.ipynb_checkpoints\n",
      "<generator object Path.glob at 0x000001BC0E5E29A8>\n",
      "dataset\\balbasaur\n",
      "<generator object Path.glob at 0x000001BC0E5E29A8>\n",
      "dataset\\diano\n",
      "<generator object Path.glob at 0x000001BC0E5E2C78>\n",
      "dataset\\pikachu\n",
      "<generator object Path.glob at 0x000001BC0E5E2C78>\n"
     ]
    }
   ],
   "source": [
    "for j in indirs:             \n",
    "    print(j)\n",
    "    print(j.glob('*.jpg'))      #if i run it again without executing the above block output will disappr"
   ]
  },
  {
   "cell_type": "code",
   "execution_count": null,
   "metadata": {},
   "outputs": [],
   "source": []
  },
  {
   "cell_type": "markdown",
   "metadata": {},
   "source": [
    "###### started main part above is just to learn pathlib "
   ]
  },
  {
   "cell_type": "code",
   "execution_count": 12,
   "metadata": {},
   "outputs": [
    {
     "name": "stdout",
     "output_type": "stream",
     "text": [
      "D:\\Jupyter Sketch\\999.DS\\29.Image(pok.) classification using NN\\.ipynb_checkpoints\n",
      ".ipynb_checkpoints\n",
      "D:\\Jupyter Sketch\\999.DS\\29.Image(pok.) classification using NN\\dataset\n",
      "dataset\n"
     ]
    }
   ],
   "source": [
    "\n",
    "\n",
    "# i will go with the above above 2 blocks \n",
    "dirs=p.glob('*')   \n",
    "for i in dirs: \n",
    "    if(i.is_dir()):\n",
    "        print(i.resolve())                                \n",
    "        indirs=i         \n",
    "        #print(type(indirs))   \n",
    "        print(indirs)   "
   ]
  },
  {
   "cell_type": "code",
   "execution_count": 13,
   "metadata": {},
   "outputs": [
    {
     "name": "stdout",
     "output_type": "stream",
     "text": [
      ".ipynb_checkpoints\n",
      "balbasaur\n",
      "diano\n"
     ]
    },
    {
     "name": "stderr",
     "output_type": "stream",
     "text": [
      "C:\\ProgramData\\Anaconda3\\lib\\site-packages\\PIL\\Image.py:993: UserWarning: Palette images with Transparency expressed in bytes should be converted to RGBA images\n",
      "  \"Palette images with Transparency expressed in bytes should be \"\n"
     ]
    },
    {
     "name": "stdout",
     "output_type": "stream",
     "text": [
      "pikachu\n"
     ]
    }
   ],
   "source": [
    "image_data=[]\n",
    "labels=[]\n",
    "label_dict={'pikachu':0,'balbasaur':1,'diano':2}\n",
    "cnt=0\n",
    "\n",
    "for i in indirs.iterdir():\n",
    "    #print(j)                      #not vanishes no matter how many times i run it\n",
    "    print(str(i).split('\\\\')[-1])      #  note that 2 \\\\ are required\n",
    "    for j in i.glob('*.jpg'):\n",
    "        #print(j)\n",
    "        #img=image.load_img(j,target_size=(100,100))\n",
    "        img=image.load_img(j,target_size=(40,40))\n",
    "        #image_data.append(img)   #whole image has appended but we need array of image\n",
    "        image_data.append(image.img_to_array(img))\n",
    "        labels.append(label_dict[str(i).split('\\\\')[-1]])\n",
    "        cnt+=1\n",
    "        "
   ]
  },
  {
   "cell_type": "code",
   "execution_count": 14,
   "metadata": {},
   "outputs": [
    {
     "data": {
      "text/plain": [
       "304"
      ]
     },
     "execution_count": 14,
     "metadata": {},
     "output_type": "execute_result"
    }
   ],
   "source": [
    "cnt          #correct"
   ]
  },
  {
   "cell_type": "code",
   "execution_count": 15,
   "metadata": {},
   "outputs": [
    {
     "data": {
      "text/plain": [
       "0"
      ]
     },
     "execution_count": 15,
     "metadata": {},
     "output_type": "execute_result"
    }
   ],
   "source": [
    "label_dict={'pikachu':0,'balbasaur':1,'diano':2}\n",
    "label_dict['pikachu']"
   ]
  },
  {
   "cell_type": "code",
   "execution_count": 16,
   "metadata": {},
   "outputs": [],
   "source": [
    "label_dictrev={0:'pikachu',1:'balbasaur',2:'diano'}"
   ]
  },
  {
   "cell_type": "code",
   "execution_count": 17,
   "metadata": {},
   "outputs": [
    {
     "data": {
      "text/plain": [
       "(304, 304)"
      ]
     },
     "execution_count": 17,
     "metadata": {},
     "output_type": "execute_result"
    }
   ],
   "source": [
    "len(image_data),len(labels)"
   ]
  },
  {
   "cell_type": "code",
   "execution_count": 18,
   "metadata": {},
   "outputs": [
    {
     "data": {
      "text/plain": [
       "array([[[0., 0., 0.],\n",
       "        [0., 0., 0.],\n",
       "        [0., 0., 0.],\n",
       "        ...,\n",
       "        [0., 0., 0.],\n",
       "        [0., 0., 0.],\n",
       "        [0., 0., 0.]],\n",
       "\n",
       "       [[0., 0., 0.],\n",
       "        [0., 0., 0.],\n",
       "        [0., 0., 0.],\n",
       "        ...,\n",
       "        [0., 0., 0.],\n",
       "        [0., 0., 0.],\n",
       "        [0., 0., 0.]],\n",
       "\n",
       "       [[0., 0., 0.],\n",
       "        [0., 0., 0.],\n",
       "        [0., 0., 0.],\n",
       "        ...,\n",
       "        [0., 0., 0.],\n",
       "        [0., 0., 0.],\n",
       "        [0., 0., 0.]],\n",
       "\n",
       "       ...,\n",
       "\n",
       "       [[0., 0., 0.],\n",
       "        [0., 0., 0.],\n",
       "        [0., 0., 0.],\n",
       "        ...,\n",
       "        [0., 0., 0.],\n",
       "        [0., 0., 0.],\n",
       "        [0., 0., 0.]],\n",
       "\n",
       "       [[0., 0., 0.],\n",
       "        [0., 0., 0.],\n",
       "        [0., 0., 0.],\n",
       "        ...,\n",
       "        [0., 0., 0.],\n",
       "        [0., 0., 0.],\n",
       "        [0., 0., 0.]],\n",
       "\n",
       "       [[0., 0., 0.],\n",
       "        [0., 0., 0.],\n",
       "        [0., 0., 0.],\n",
       "        ...,\n",
       "        [0., 0., 0.],\n",
       "        [0., 0., 0.],\n",
       "        [0., 0., 0.]]], dtype=float32)"
      ]
     },
     "execution_count": 18,
     "metadata": {},
     "output_type": "execute_result"
    }
   ],
   "source": [
    "image_data[0]          #earlier    image itself get appended"
   ]
  },
  {
   "cell_type": "code",
   "execution_count": 19,
   "metadata": {},
   "outputs": [
    {
     "data": {
      "text/plain": [
       "(40, 40, 3)"
      ]
     },
     "execution_count": 19,
     "metadata": {},
     "output_type": "execute_result"
    }
   ],
   "source": [
    "image_data[0].shape"
   ]
  },
  {
   "cell_type": "code",
   "execution_count": null,
   "metadata": {},
   "outputs": [],
   "source": []
  },
  {
   "cell_type": "markdown",
   "metadata": {},
   "source": [
    "# visualisation"
   ]
  },
  {
   "cell_type": "code",
   "execution_count": 20,
   "metadata": {},
   "outputs": [],
   "source": [
    "import numpy as np\n",
    "import matplotlib.pyplot as plt"
   ]
  },
  {
   "cell_type": "code",
   "execution_count": 21,
   "metadata": {},
   "outputs": [],
   "source": [
    "x=np.array(image_data)\n",
    "y=np.array(labels)"
   ]
  },
  {
   "cell_type": "code",
   "execution_count": 22,
   "metadata": {},
   "outputs": [
    {
     "data": {
      "text/plain": [
       "(304, 40, 40, 3)"
      ]
     },
     "execution_count": 22,
     "metadata": {},
     "output_type": "execute_result"
    }
   ],
   "source": [
    "x.shape    #304 images of size(100, 100, 3)  each"
   ]
  },
  {
   "cell_type": "code",
   "execution_count": 23,
   "metadata": {},
   "outputs": [],
   "source": [
    "plt.style.use('seaborn')"
   ]
  },
  {
   "cell_type": "code",
   "execution_count": 68,
   "metadata": {},
   "outputs": [],
   "source": [
    "def showimg(img):\n",
    "    plt.imshow(img/255.0)\n",
    "    plt.axis('off')\n",
    "    plt.show()"
   ]
  },
  {
   "cell_type": "code",
   "execution_count": 25,
   "metadata": {},
   "outputs": [
    {
     "data": {
      "image/png": "[encoded data removed]",
      "text/plain": [
       "<Figure size 576x396 with 1 Axes>"
      ]
     },
     "metadata": {},
     "output_type": "display_data"
    },
    {
     "data": {
      "image/png": "[encoded data removed]",
      "text/plain": [
       "<Figure size 576x396 with 1 Axes>"
      ]
     },
     "metadata": {},
     "output_type": "display_data"
    },
    {
     "data": {
      "image/png": "[encoded data removed]",
      "text/plain": [
       "<Figure size 576x396 with 1 Axes>"
      ]
     },
     "metadata": {},
     "output_type": "display_data"
    },
    {
     "data": {
      "image/png": "[encoded data removed]",
      "text/plain": [
       "<Figure size 576x396 with 1 Axes>"
      ]
     },
     "metadata": {},
     "output_type": "display_data"
    },
    {
     "data": {
      "image/png": "[encoded data removed]",
      "text/plain": [
       "<Figure size 576x396 with 1 Axes>"
      ]
     },
     "metadata": {},
     "output_type": "display_data"
    },
    {
     "data": {
      "image/png": "[encoded data removed]",
      "text/plain": [
       "<Figure size 576x396 with 1 Axes>"
      ]
     },
     "metadata": {},
     "output_type": "display_data"
    },
    {
     "data": {
      "image/png": "[encoded data removed]",
      "text/plain": [
       "<Figure size 576x396 with 1 Axes>"
      ]
     },
     "metadata": {},
     "output_type": "display_data"
    },
    {
     "data": {
      "image/png": "[encoded data removed]",
      "text/plain": [
       "<Figure size 576x396 with 1 Axes>"
      ]
     },
     "metadata": {},
     "output_type": "display_data"
    },
    {
     "data": {
      "image/png": "[encoded data removed]",
      "text/plain": [
       "<Figure size 576x396 with 1 Axes>"
      ]
     },
     "metadata": {},
     "output_type": "display_data"
    },
    {
     "data": {
      "image/png": "[encoded data removed]",
      "text/plain": [
       "<Figure size 576x396 with 1 Axes>"
      ]
     },
     "metadata": {},
     "output_type": "display_data"
    }
   ],
   "source": [
    "for i in range(10):\n",
    "    r=np.random.randint(300)\n",
    "    showimg(x[r])"
   ]
  },
  {
   "cell_type": "code",
   "execution_count": null,
   "metadata": {},
   "outputs": [],
   "source": []
  },
  {
   "cell_type": "code",
   "execution_count": null,
   "metadata": {},
   "outputs": [],
   "source": []
  },
  {
   "cell_type": "markdown",
   "metadata": {},
   "source": [
    "# 2.pokemon classificationa and overfitting"
   ]
  },
  {
   "cell_type": "code",
   "execution_count": 26,
   "metadata": {},
   "outputs": [],
   "source": [
    "# shuffling x and y\n",
    "from sklearn.utils import shuffle"
   ]
  },
  {
   "cell_type": "code",
   "execution_count": 27,
   "metadata": {},
   "outputs": [],
   "source": [
    "x,y=shuffle(x,y,random_state=2)   #shuffles both simultaneously"
   ]
  },
  {
   "cell_type": "code",
   "execution_count": 28,
   "metadata": {},
   "outputs": [
    {
     "data": {
      "text/plain": [
       "((304, 40, 40, 3), (304,))"
      ]
     },
     "execution_count": 28,
     "metadata": {},
     "output_type": "execute_result"
    }
   ],
   "source": [
    "x.shape,y.shape"
   ]
  },
  {
   "cell_type": "code",
   "execution_count": 29,
   "metadata": {},
   "outputs": [],
   "source": [
    "x=x/255.0    #mandatory"
   ]
  },
  {
   "cell_type": "code",
   "execution_count": 30,
   "metadata": {},
   "outputs": [
    {
     "data": {
      "image/png": "[encoded data removed]",
      "text/plain": [
       "<Figure size 576x396 with 1 Axes>"
      ]
     },
     "metadata": {},
     "output_type": "display_data"
    }
   ],
   "source": [
    "plt.imshow(x[100])\n",
    "plt.title(label_dictrev[y[100]])\n",
    "plt.axis('off')\n",
    "plt.show()"
   ]
  },
  {
   "cell_type": "markdown",
   "metadata": {},
   "source": [
    "#### splitting the data in train and test"
   ]
  },
  {
   "cell_type": "code",
   "execution_count": 31,
   "metadata": {},
   "outputs": [
    {
     "data": {
      "text/plain": [
       "243"
      ]
     },
     "execution_count": 31,
     "metadata": {},
     "output_type": "execute_result"
    }
   ],
   "source": [
    "split=int(x.shape[0]*0.8)\n",
    "split"
   ]
  },
  {
   "cell_type": "code",
   "execution_count": 32,
   "metadata": {},
   "outputs": [
    {
     "data": {
      "text/plain": [
       "((304, 40, 40, 3), (304,))"
      ]
     },
     "execution_count": 32,
     "metadata": {},
     "output_type": "execute_result"
    }
   ],
   "source": [
    "x.shape,y.shape"
   ]
  },
  {
   "cell_type": "code",
   "execution_count": 33,
   "metadata": {},
   "outputs": [],
   "source": [
    "xtrain=x[:split,:]\n",
    "ytrain=y[:split]\n",
    "\n",
    "xtest=x[split:,:]\n",
    "ytest=y[split:]"
   ]
  },
  {
   "cell_type": "code",
   "execution_count": 34,
   "metadata": {},
   "outputs": [
    {
     "name": "stdout",
     "output_type": "stream",
     "text": [
      "(243, 40, 40, 3) (243,)\n",
      "(61, 40, 40, 3) (61,)\n"
     ]
    }
   ],
   "source": [
    "print(xtrain.shape,ytrain.shape)\n",
    "print(xtest.shape,ytest.shape)"
   ]
  },
  {
   "cell_type": "code",
   "execution_count": null,
   "metadata": {},
   "outputs": [],
   "source": []
  },
  {
   "cell_type": "markdown",
   "metadata": {},
   "source": [
    "## Training"
   ]
  },
  {
   "cell_type": "code",
   "execution_count": 35,
   "metadata": {},
   "outputs": [],
   "source": [
    "# lets define softmax\n",
    "def softmax(a):\n",
    "    e_pa=np.exp(a)\n",
    "    ans = e_pa/np.sum(e_pa,axis=1,keepdims=True)\n",
    "    return ans"
   ]
  },
  {
   "cell_type": "code",
   "execution_count": 36,
   "metadata": {},
   "outputs": [
    {
     "name": "stdout",
     "output_type": "stream",
     "text": [
      "[[5.00000000e-01 5.00000000e-01]\n",
      " [4.53978687e-05 9.99954602e-01]]\n"
     ]
    }
   ],
   "source": [
    "a=np.array([[10,10],\n",
    "            [10,20]])\n",
    "print(softmax(a))"
   ]
  },
  {
   "cell_type": "code",
   "execution_count": 37,
   "metadata": {},
   "outputs": [],
   "source": [
    "input_size=3  #total no of neuron(ne) in input  here it is 3\n",
    "layers=[4,3]   #no of entries in list will be equal to the no of hidden layers in network successively\n",
    "               #and value at each index equal to the no of ne in the that particular hidden layer\n",
    "               #for eg this network will have 2 hidden layers \n",
    "               #first hidden layer will have 4 ne and that 2nd will be 3\n",
    "out_size=2   #this will define no possible ouput in the output layer in our case it is 2\n",
    "\n",
    "# over all we have network of 4 layer 2 in/out and 2 are hidden layer"
   ]
  },
  {
   "cell_type": "code",
   "execution_count": 38,
   "metadata": {},
   "outputs": [],
   "source": [
    "# above need to be changed"
   ]
  },
  {
   "cell_type": "code",
   "execution_count": 39,
   "metadata": {},
   "outputs": [],
   "source": [
    "# creating class of NN\n",
    "class neNet:\n",
    "    #each object of this class will have some featuers such as\n",
    "    #1.input size    2.layers     3.output size     lets make it attribute for all object of this class\n",
    "    def __init__(self,input_size,layers,out_size):\n",
    "        np.random.seed(0)  #to get the same initialization of weights each time\n",
    "        model={} \n",
    "        \n",
    "        #craeting the first layer weight matrix\n",
    "        #1st hidden layer   W and b\n",
    "        model['w1']=np.random.randn(input_size,layers[0])\n",
    "        #creating the bias for this hidden layer which will be equal to the no of ne in the 1st hidden lay.\n",
    "        model['b1']=np.zeros((1,layers[0]))\n",
    "        #doing the same for all the hidden we have and output layer\n",
    "        \n",
    "        #2nd hidden layer w and b\n",
    "        model['w2']=np.random.randn(layers[0],layers[1])\n",
    "        model['b2']=np.zeros((1,layers[1]))\n",
    "        \n",
    "        #third layer or output layer\n",
    "        model['w3']=np.random.randn(layers[1],out_size)\n",
    "        model['b3']=np.zeros((1,out_size))\n",
    "        \n",
    "        #lets add it as a attribute so that each object can have it and easily accesible\n",
    "        self.model=model\n",
    "        self.actvation=None\n",
    "        \n",
    "        \n",
    "    def forward(self,x):\n",
    "        w1,w2,w3=self.model['w1'],self.model['w2'],self.model['w3']\n",
    "        b1,b2,b3=self.model['b1'],self.model['b2'],self.model['b3']\n",
    "        \n",
    "        #print(x.shape,w1.shape,b1.shape)\n",
    "        z1=np.dot(x,w1)+b1\n",
    "        a1=np.tanh(z1)             #output of first hidden layer\n",
    "        \n",
    "        #print(a1.shape,w2.shape,b2.shape)\n",
    "        z2=np.dot(a1,w2)+b2\n",
    "        a2=np.tanh(z2)               #output of second hidden layer\n",
    "        \n",
    "        z3=np.dot(a2,w3)+b3   \n",
    "        y_=softmax(z3)                #output of last(output) layer\n",
    "        \n",
    "        self.actvation=(a1,a2,y_)\n",
    "        return y_                           #shape  (m=total no examples, k=no of classes)\n",
    "    \n",
    "    def backward(self,x,y,lr=0.001):\n",
    "        #getting the initialised w and b\n",
    "        w1,w2,w3=self.model['w1'],self.model['w2'],self.model['w3']\n",
    "        b1,b2,b3=self.model['b1'],self.model['b1'],self.model['b1']\n",
    "        \n",
    "        m=x.shape[0]\n",
    "        \n",
    "        a1,a2,y_=self.actvation\n",
    "        \n",
    "        #computing the gradient of w and b in each layer of each neouron\n",
    "        #for that we need delta_w loss and delta_b loss \n",
    "        #delta w and b will differ for output layer and hidden layer\n",
    "        \n",
    "        #for output layer\n",
    "        #size of input matrix for the input layer will be equal to the shape of the x (m,np of features)\n",
    "        \n",
    "        #size of input matrix for the first hidden layer will be equal to the shape of the x (m,np of features)  \n",
    "        \n",
    "        #size of input matrix for the second hidden layer will be equal to the shape of the matrix\n",
    "        #produced by the first hidden layer ie (m,no of neurons in the first hidden layer)\n",
    "        #each row dedicated to each example and each column of which will contain the activation of each \n",
    "        #neuron for a particular example each neouron will show atleast some activr ation\n",
    "        #for better understanding use the anlogy of output layer where each output neuron will have some\n",
    "        #prediction  for each class or each neoron is perceptron hence it will have some prediction\n",
    "        \n",
    "        #size of input matrix for the output layer will be equal to the shape of the matrix\n",
    "        #produced by the second hidden layer ie (m,no of neurons in the second hidden layer)\n",
    "        #each row dedicated to each example and each column of which will contain the activation of each \n",
    "        #neuron.\n",
    "        \n",
    "        #we have talked about weight matrices shape so much   \n",
    "        \n",
    "        #working on the output layer\n",
    "        delta3= y_ -y\n",
    "        dw3=np.dot(a2.T,delta3)          #gradient of weight in output layer\n",
    "        db3=np.sum(delta3,axis=0)/m       #gradient of bias in output layer\n",
    "        \n",
    "        #working on the 2nd last hidden layer\n",
    "        delta2=(1-np.square(a2))* np.dot(delta3,w3.T)\n",
    "        dw2=np.dot(a1.T,delta2)\n",
    "        db2=np.sum(delta2,axis=0)/m\n",
    "        \n",
    "        #working on the 3rd last hidden layer  (1st in our case)\n",
    "        delta1=(1-np.square(a1))* np.dot(delta2,w2.T)\n",
    "        dw1=np.dot(x.T,delta1)\n",
    "        db1=np.sum(delta1,axis=0)/m\n",
    "        \n",
    "        #upadting the wights and biases\n",
    "        self.model['w1'] -= lr*dw1\n",
    "        self.model['b1'] -= lr*db1\n",
    "        \n",
    "        self.model['w2'] -= lr*dw2\n",
    "        self.model['b2'] -= lr*db2\n",
    "        \n",
    "        self.model['w3'] -= lr*dw3\n",
    "        self.model['b3'] -= lr*db3\n",
    "        \n",
    "    def predict(self,x):\n",
    "        y_out=self.forward(x)\n",
    "        return np.argmax(y_out,axis=1)\n",
    "    \n",
    "    def summary(self):\n",
    "        w1,w2,w3=self.model['w1'],self.model['w2'],self.model['w3']\n",
    "        a1,a2,y_= self.actvation\n",
    "        \n",
    "        #summary\n",
    "        print('w1',w1.shape)\n",
    "        print('a1',a1.shape)\n",
    "        \n",
    "        print('w2',w2.shape)\n",
    "        print('a2',a2.shape)\n",
    "        \n",
    "        print('w3',w3.shape)\n",
    "        print('y_',y_.shape)\n",
    "        "
   ]
  },
  {
   "cell_type": "code",
   "execution_count": 40,
   "metadata": {},
   "outputs": [],
   "source": [
    "def loss(y_ohot,p):              #always try to make an analogy with Linear regression\n",
    "    l=-np.mean(y_ohot*np.log(p))\n",
    "    return l\n",
    "\n",
    "def one_hot(y,depth):         #depth is the no classes\n",
    "    m=y.shape[0]\n",
    "    y_ohot=np.zeros((m,depth))\n",
    "    y_ohot[np.arange(m),y]=1\n",
    "    return y_ohot    "
   ]
  },
  {
   "cell_type": "code",
   "execution_count": null,
   "metadata": {},
   "outputs": [],
   "source": []
  },
  {
   "cell_type": "code",
   "execution_count": null,
   "metadata": {},
   "outputs": [],
   "source": []
  },
  {
   "cell_type": "code",
   "execution_count": 41,
   "metadata": {},
   "outputs": [],
   "source": [
    "# craeting an object\n",
    "model=neNet(input_size=4800,layers=[100,50],out_size=3)  \n",
    "# here we give the input to each attribute of the class"
   ]
  },
  {
   "cell_type": "code",
   "execution_count": 42,
   "metadata": {},
   "outputs": [
    {
     "ename": "TypeError",
     "evalue": "cannot unpack non-iterable NoneType object",
     "output_type": "error",
     "traceback": [
      "\u001b[1;31m---------------------------------------------------------------------------\u001b[0m",
      "\u001b[1;31mTypeError\u001b[0m                                 Traceback (most recent call last)",
      "\u001b[1;32m<ipython-input-42-5f15418b3570>\u001b[0m in \u001b[0;36m<module>\u001b[1;34m\u001b[0m\n\u001b[1;32m----> 1\u001b[1;33m \u001b[0mmodel\u001b[0m\u001b[1;33m.\u001b[0m\u001b[0msummary\u001b[0m\u001b[1;33m(\u001b[0m\u001b[1;33m)\u001b[0m\u001b[1;33m\u001b[0m\u001b[1;33m\u001b[0m\u001b[0m\n\u001b[0m",
      "\u001b[1;32m<ipython-input-39-4cd6c8c0e7c8>\u001b[0m in \u001b[0;36msummary\u001b[1;34m(self)\u001b[0m\n\u001b[0;32m    108\u001b[0m     \u001b[1;32mdef\u001b[0m \u001b[0msummary\u001b[0m\u001b[1;33m(\u001b[0m\u001b[0mself\u001b[0m\u001b[1;33m)\u001b[0m\u001b[1;33m:\u001b[0m\u001b[1;33m\u001b[0m\u001b[1;33m\u001b[0m\u001b[0m\n\u001b[0;32m    109\u001b[0m         \u001b[0mw1\u001b[0m\u001b[1;33m,\u001b[0m\u001b[0mw2\u001b[0m\u001b[1;33m,\u001b[0m\u001b[0mw3\u001b[0m\u001b[1;33m=\u001b[0m\u001b[0mself\u001b[0m\u001b[1;33m.\u001b[0m\u001b[0mmodel\u001b[0m\u001b[1;33m[\u001b[0m\u001b[1;34m'w1'\u001b[0m\u001b[1;33m]\u001b[0m\u001b[1;33m,\u001b[0m\u001b[0mself\u001b[0m\u001b[1;33m.\u001b[0m\u001b[0mmodel\u001b[0m\u001b[1;33m[\u001b[0m\u001b[1;34m'w2'\u001b[0m\u001b[1;33m]\u001b[0m\u001b[1;33m,\u001b[0m\u001b[0mself\u001b[0m\u001b[1;33m.\u001b[0m\u001b[0mmodel\u001b[0m\u001b[1;33m[\u001b[0m\u001b[1;34m'w3'\u001b[0m\u001b[1;33m]\u001b[0m\u001b[1;33m\u001b[0m\u001b[1;33m\u001b[0m\u001b[0m\n\u001b[1;32m--> 110\u001b[1;33m         \u001b[0ma1\u001b[0m\u001b[1;33m,\u001b[0m\u001b[0ma2\u001b[0m\u001b[1;33m,\u001b[0m\u001b[0my_\u001b[0m\u001b[1;33m=\u001b[0m \u001b[0mself\u001b[0m\u001b[1;33m.\u001b[0m\u001b[0mactvation\u001b[0m\u001b[1;33m\u001b[0m\u001b[1;33m\u001b[0m\u001b[0m\n\u001b[0m\u001b[0;32m    111\u001b[0m \u001b[1;33m\u001b[0m\u001b[0m\n\u001b[0;32m    112\u001b[0m         \u001b[1;31m#summary\u001b[0m\u001b[1;33m\u001b[0m\u001b[1;33m\u001b[0m\u001b[1;33m\u001b[0m\u001b[0m\n",
      "\u001b[1;31mTypeError\u001b[0m: cannot unpack non-iterable NoneType object"
     ]
    }
   ],
   "source": [
    "model.summary()"
   ]
  },
  {
   "cell_type": "code",
   "execution_count": 47,
   "metadata": {},
   "outputs": [],
   "source": [
    "# training\n",
    "def train(x,y,model,epochs,learning_rate,logs=True):\n",
    "    loss_list=[]\n",
    "    classs=3\n",
    "    y_ohot=one_hot(y,classs)\n",
    "    \n",
    "    for i in range(epochs):\n",
    "        y_=model.forward(x)\n",
    "        l=loss(y_ohot,y_)\n",
    "        loss_list.append(l)\n",
    "        model.backward(x,y_ohot,learning_rate)   #always need one hot vector nevwr simple label\n",
    "        if(logs):\n",
    "            print(i,l)\n",
    "            \n",
    "    return loss_list"
   ]
  },
  {
   "cell_type": "code",
   "execution_count": 48,
   "metadata": {},
   "outputs": [],
   "source": [
    "# first we need to flatten each image\n",
    "# xtrain2=xtrain.reshape(243,-1)\n",
    "xtrain2=xtrain.reshape(xtrain.shape[0],-1)    #more correct\n",
    "xtest2=xtest.reshape(xtest.shape[0],-1)    #more correct"
   ]
  },
  {
   "cell_type": "raw",
   "metadata": {},
   "source": [
    "xtrain not flattened and xtrain2 flattened"
   ]
  },
  {
   "cell_type": "code",
   "execution_count": 49,
   "metadata": {},
   "outputs": [
    {
     "name": "stdout",
     "output_type": "stream",
     "text": [
      "(243, 4800)\n",
      "(61, 4800)\n"
     ]
    }
   ],
   "source": [
    "print(xtrain2.shape  )       #each image of size 4800\n",
    "print(xtest2.shape)"
   ]
  },
  {
   "cell_type": "code",
   "execution_count": 50,
   "metadata": {},
   "outputs": [
    {
     "name": "stdout",
     "output_type": "stream",
     "text": [
      "0 2.585091472645719\n",
      "1 1.9197166051338326\n",
      "2 1.6254242595636699\n",
      "3 1.0892644589192642\n",
      "4 1.220485039663713\n",
      "5 1.0678438457607444\n",
      "6 0.8349958739037123\n",
      "7 0.7800302475398951\n",
      "8 0.7653874960817403\n",
      "9 0.6080830542052285\n",
      "10 0.6426623661490639\n",
      "11 0.6178176985493963\n",
      "12 0.4311981121473648\n",
      "13 0.42812006977491407\n",
      "14 0.3262593161079684\n",
      "15 0.3204732842801949\n",
      "16 0.2809016077096915\n",
      "17 0.25960604656770503\n",
      "18 0.30196451106923894\n",
      "19 0.24891446741649279\n",
      "20 0.23938813271602716\n",
      "21 0.23111899445878384\n",
      "22 0.21085144494407182\n",
      "23 0.20314944513840513\n",
      "24 0.19339360666672545\n",
      "25 0.1869515271809817\n",
      "26 0.19493653979194353\n",
      "27 0.19490620727605532\n",
      "28 0.18893663491748072\n",
      "29 0.18175378807408235\n",
      "30 0.17083562320600568\n",
      "31 0.17099718584711363\n",
      "32 0.17834426069518178\n",
      "33 0.17352429260992427\n",
      "34 0.17435966445477605\n",
      "35 0.1826243845576493\n",
      "36 0.17682856485549675\n",
      "37 0.189038193747952\n",
      "38 0.1879186089591469\n",
      "39 0.18515639568877687\n",
      "40 0.168340141550799\n",
      "41 0.15663781127504736\n",
      "42 0.1504901904270933\n",
      "43 0.15341954873440314\n",
      "44 0.1502681227313069\n",
      "45 0.1461391714530626\n",
      "46 0.14569693357402444\n",
      "47 0.1403283493708262\n",
      "48 0.14112482176015656\n",
      "49 0.13919752768778593\n",
      "50 0.14252809442820097\n",
      "51 0.13927795002652932\n",
      "52 0.1371181285242685\n",
      "53 0.13683383918732647\n",
      "54 0.1359455723160833\n",
      "55 0.13373099799165394\n",
      "56 0.13418326413021112\n",
      "57 0.13655913003873243\n",
      "58 0.13582168472134773\n",
      "59 0.1339522402380924\n",
      "60 0.1297593274822339\n",
      "61 0.1281225568547515\n",
      "62 0.13041385684089768\n",
      "63 0.12784658563941603\n",
      "64 0.14744797331503776\n",
      "65 0.1379836518339822\n",
      "66 0.13577546387742834\n",
      "67 0.13459603631460812\n",
      "68 0.12746974036122866\n",
      "69 0.1254901810775401\n",
      "70 0.12076449333726635\n",
      "71 0.11916856431198095\n",
      "72 0.11681918323313772\n",
      "73 0.11609008525119634\n",
      "74 0.11458720889492283\n",
      "75 0.11356004938599201\n",
      "76 0.11275773913178198\n",
      "77 0.11224557306158615\n",
      "78 0.11062841727155047\n",
      "79 0.10975449567700847\n",
      "80 0.10910507218317533\n",
      "81 0.10826531762394323\n",
      "82 0.10860483626718216\n",
      "83 0.10749042137051654\n",
      "84 0.10567527580869858\n",
      "85 0.10530479566868997\n",
      "86 0.10470384690086765\n",
      "87 0.10453250110923859\n",
      "88 0.10380934205169354\n",
      "89 0.10271982720524618\n",
      "90 0.10232731423793097\n",
      "91 0.10203516488800599\n",
      "92 0.10142339103281132\n",
      "93 0.10107978820518315\n",
      "94 0.1007513377729968\n",
      "95 0.10033888259172774\n",
      "96 0.09985987165061365\n",
      "97 0.09979697803889637\n",
      "98 0.09942229538532595\n",
      "99 0.09875757643953047\n",
      "100 0.09824051875599529\n",
      "101 0.09816472506480384\n",
      "102 0.09787671262083292\n",
      "103 0.09744042981814677\n",
      "104 0.09704297396970042\n",
      "105 0.09679113916328853\n",
      "106 0.09654980151333535\n",
      "107 0.09640059234911459\n",
      "108 0.09608203576237825\n",
      "109 0.0957345111943023\n",
      "110 0.09530162465371499\n",
      "111 0.09495776711243573\n",
      "112 0.09464093827511584\n",
      "113 0.09432520073249834\n",
      "114 0.09400986426774549\n",
      "115 0.09371315608908135\n",
      "116 0.09341816949061836\n",
      "117 0.09306458137536705\n",
      "118 0.09302340910317677\n",
      "119 0.09694874787665275\n",
      "120 0.09311507439217721\n",
      "121 0.09208994412896043\n",
      "122 0.09211318701402837\n",
      "123 0.09161346029811362\n",
      "124 0.09143211891722973\n",
      "125 0.09137684166358002\n",
      "126 0.09092284902128554\n",
      "127 0.09067991814515289\n",
      "128 0.09034002768244816\n",
      "129 0.0904269392707877\n",
      "130 0.09216285360885314\n",
      "131 0.10699159557455078\n",
      "132 0.11827573054419868\n",
      "133 0.11332038872387667\n",
      "134 0.11124623828928804\n",
      "135 0.10734251338465647\n",
      "136 0.10497184681123796\n",
      "137 0.10450635126754612\n",
      "138 0.10334901903524955\n",
      "139 0.10218650902622238\n",
      "140 0.10183460977204428\n",
      "141 0.09990988338573624\n",
      "142 0.10337813375732459\n",
      "143 0.10152892742467698\n",
      "144 0.09837645028616511\n",
      "145 0.09607722353550327\n",
      "146 0.09525406637503142\n",
      "147 0.09475497676312024\n",
      "148 0.09416820909167702\n",
      "149 0.09313733337963834\n",
      "150 0.09297576513135844\n",
      "151 0.09271530015004359\n",
      "152 0.09214329764942696\n",
      "153 0.09169692533478786\n",
      "154 0.09152422424337324\n",
      "155 0.09053041079875283\n",
      "156 0.09056535267073165\n",
      "157 0.08956666977674056\n",
      "158 0.08860830728318848\n",
      "159 0.08870206382364614\n",
      "160 0.087874541990691\n",
      "161 0.08772750754961596\n",
      "162 0.08844369748957323\n",
      "163 0.09175743250599347\n",
      "164 0.0920756251021327\n",
      "165 0.08959997804493162\n",
      "166 0.08705489351518983\n",
      "167 0.08588537618734893\n",
      "168 0.08539833927992951\n",
      "169 0.08456328201734306\n",
      "170 0.08445536565106235\n",
      "171 0.08385758785232232\n",
      "172 0.08392650300729423\n",
      "173 0.08345963348391713\n",
      "174 0.08299509856652877\n",
      "175 0.083372064222088\n",
      "176 0.08239823640605262\n",
      "177 0.08224151030528631\n",
      "178 0.08248413872419752\n",
      "179 0.08172693575243732\n",
      "180 0.08191688522586935\n",
      "181 0.0814541353113511\n",
      "182 0.08100152447878134\n",
      "183 0.0808689580886133\n",
      "184 0.08107635971038801\n",
      "185 0.08075537853087875\n",
      "186 0.0804954241238182\n",
      "187 0.08007674714975377\n",
      "188 0.08300216485753015\n",
      "189 0.0900340763216186\n",
      "190 0.08306146851299234\n",
      "191 0.081367659513297\n",
      "192 0.0789126698205232\n",
      "193 0.07948980254749967\n",
      "194 0.07868615892221571\n",
      "195 0.08011383571780609\n",
      "196 0.08234683212932772\n",
      "197 0.07789877179007569\n",
      "198 0.0782677292063677\n",
      "199 0.07695665828825364\n",
      "200 0.07742910581549516\n",
      "201 0.07802399816729438\n",
      "202 0.07968128276011802\n",
      "203 0.07601124208913758\n",
      "204 0.07567354360641484\n",
      "205 0.07584783324971715\n",
      "206 0.07534823518608019\n",
      "207 0.07518583179325232\n",
      "208 0.07469638560809133\n",
      "209 0.07454304183197324\n",
      "210 0.07416472886361311\n",
      "211 0.07413386215117071\n",
      "212 0.07378634083461046\n",
      "213 0.0735452345011477\n",
      "214 0.07321744486657301\n",
      "215 0.07301707446362543\n",
      "216 0.07282553125980955\n",
      "217 0.07268632292919261\n",
      "218 0.0722531025725552\n",
      "219 0.07185431333501612\n",
      "220 0.07157465336371839\n",
      "221 0.07130958105632582\n",
      "222 0.07106918975522686\n",
      "223 0.07082778815339719\n",
      "224 0.07059508283177846\n",
      "225 0.07036434027875978\n",
      "226 0.07028441643436974\n",
      "227 0.07143158109801738\n",
      "228 0.07026564626738897\n",
      "229 0.06975062998056947\n",
      "230 0.069068904425114\n",
      "231 0.06956788670813323\n",
      "232 0.06881444755845871\n",
      "233 0.07279723979083334\n",
      "234 0.09069888828026737\n",
      "235 0.1141521867237893\n",
      "236 0.22958734921281632\n",
      "237 0.17245809972159434\n",
      "238 0.15174358727502735\n",
      "239 0.09944676982574788\n",
      "240 0.08426702324283714\n",
      "241 0.08414025505329671\n",
      "242 0.11671196427437698\n",
      "243 0.09550818683853234\n",
      "244 0.07834250285580127\n",
      "245 0.07395880255863305\n",
      "246 0.07271299124704002\n",
      "247 0.07428627749161955\n",
      "248 0.07265129413159323\n",
      "249 0.07135108247591762\n",
      "250 0.07066790107863433\n",
      "251 0.07035365908672812\n",
      "252 0.06921927816185267\n",
      "253 0.06849573691277284\n",
      "254 0.06886669383189722\n",
      "255 0.07353191581988243\n",
      "256 0.10403181463965626\n",
      "257 0.08353330560183178\n",
      "258 0.0772996803597686\n",
      "259 0.07254329458720915\n",
      "260 0.06995040081895183\n",
      "261 0.0694724045902221\n",
      "262 0.06783419297202395\n",
      "263 0.06705455978074616\n",
      "264 0.06695154923348066\n",
      "265 0.06596794817188466\n",
      "266 0.06636594502451768\n",
      "267 0.06624617725297278\n",
      "268 0.06537775346100792\n",
      "269 0.06583399682980381\n",
      "270 0.06563208887374593\n",
      "271 0.06491612378659584\n",
      "272 0.06487616398569798\n",
      "273 0.06554563463859174\n",
      "274 0.06400344320254718\n",
      "275 0.06449679814074159\n",
      "276 0.06624396359512333\n",
      "277 0.06466325111071816\n",
      "278 0.0637811145176869\n",
      "279 0.0632799818660059\n",
      "280 0.06248610388517348\n",
      "281 0.0627231137458311\n",
      "282 0.06239894018423583\n",
      "283 0.06246803252666054\n",
      "284 0.06108128362571022\n",
      "285 0.06170438638545645\n",
      "286 0.06520893501533073\n",
      "287 0.06215330482376973\n",
      "288 0.061760588206031926\n",
      "289 0.06181324418144616\n",
      "290 0.061474471971872564\n",
      "291 0.061218344447002256\n",
      "292 0.06157373909769138\n",
      "293 0.06247795679200196\n",
      "294 0.06114922574057922\n",
      "295 0.06064050194157722\n",
      "296 0.06082744560821524\n",
      "297 0.06024181666014612\n",
      "298 0.06061889565254099\n",
      "299 0.059479336762823326\n",
      "300 0.059890510772342774\n",
      "301 0.059750322996727424\n",
      "302 0.06086379070930236\n",
      "303 0.05925713898198788\n",
      "304 0.059148661954258795\n",
      "305 0.05953490985134525\n",
      "306 0.058743063060842364\n",
      "307 0.05932208196670995\n",
      "308 0.061365121026560734\n",
      "309 0.058430742815417484\n",
      "310 0.05850147420150017\n",
      "311 0.058939808887808365\n",
      "312 0.05789504638616007\n",
      "313 0.0579643094655695\n",
      "314 0.05916748490772158\n",
      "315 0.05776334296285713\n",
      "316 0.0579031130910107\n",
      "317 0.05824159522227213\n",
      "318 0.05648524630155457\n",
      "319 0.0560073022198293\n",
      "320 0.056879384044745844\n",
      "321 0.06101962538500911\n",
      "322 0.06443930370914179\n",
      "323 0.06339124679682161\n",
      "324 0.06222599718877176\n",
      "325 0.06045863151363288\n",
      "326 0.05733876775354748\n",
      "327 0.05768536225311255\n",
      "328 0.05703758791004783\n",
      "329 0.056568236001903784\n",
      "330 0.0568559364084145\n",
      "331 0.056341603439427956\n",
      "332 0.05656526566931981\n",
      "333 0.056300069669765244\n",
      "334 0.05676960725381591\n",
      "335 0.056129608605939095\n",
      "336 0.05600092047343255\n",
      "337 0.05637484139296264\n",
      "338 0.055706990856592836\n",
      "339 0.05565123282001532\n",
      "340 0.05581613071827038\n",
      "341 0.055614365852083646\n",
      "342 0.056027854358557595\n",
      "343 0.0553830322076443\n",
      "344 0.05528957656220902\n",
      "345 0.05551950230622676\n",
      "346 0.05509656166881331\n",
      "347 0.05521924261558939\n",
      "348 0.055053159711803315\n",
      "349 0.05542588205493488\n"
     ]
    },
    {
     "name": "stdout",
     "output_type": "stream",
     "text": [
      "350 0.054779511028327045\n",
      "351 0.05470020409811209\n",
      "352 0.05477329931426557\n",
      "353 0.05465987908540008\n",
      "354 0.05501086179584496\n",
      "355 0.05436758378572068\n",
      "356 0.054290653496798534\n",
      "357 0.05427703764422381\n",
      "358 0.05421545659721517\n",
      "359 0.05444169074683159\n",
      "360 0.054076050741481745\n",
      "361 0.05429219615514195\n",
      "362 0.05391168177217579\n",
      "363 0.0540660844323193\n",
      "364 0.05382181023123733\n",
      "365 0.05411311851026312\n",
      "366 0.053516738472098244\n",
      "367 0.05342936386418772\n",
      "368 0.053349096476680374\n",
      "369 0.053271736887313466\n",
      "370 0.053196501895042214\n",
      "371 0.053125081658914726\n",
      "372 0.053057368694838174\n",
      "373 0.053011146414835446\n",
      "374 0.05296089959481034\n",
      "375 0.05307231690263948\n",
      "376 0.053083074524124065\n",
      "377 0.053502083952053296\n",
      "378 0.05293361008117005\n",
      "379 0.05186082336751007\n",
      "380 0.05155740573356733\n",
      "381 0.05062185744117872\n",
      "382 0.05051905736076224\n",
      "383 0.050462871677744436\n",
      "384 0.050602289688571056\n",
      "385 0.050746682782331166\n",
      "386 0.05167132477176745\n",
      "387 0.05015138197777011\n",
      "388 0.05008151440904792\n",
      "389 0.05011239096997652\n",
      "390 0.05018876314866193\n",
      "391 0.05049908947108623\n",
      "392 0.050149548055754174\n",
      "393 0.04986825372470598\n",
      "394 0.04969147527006107\n",
      "395 0.04967514688061204\n",
      "396 0.04962243460597934\n",
      "397 0.04979046360733173\n",
      "398 0.04946864877884856\n",
      "399 0.04937579865597239\n"
     ]
    }
   ],
   "source": [
    "loss_list=train(xtrain2,ytrain,model,400,0.001) \n",
    "#each time you run this first make a new object of nnet otherwise there will be some somevalues in w and b\n",
    "#which may create error"
   ]
  },
  {
   "cell_type": "code",
   "execution_count": 51,
   "metadata": {},
   "outputs": [
    {
     "data": {
      "image/png": "[encoded data removed]",
      "text/plain": [
       "<Figure size 576x396 with 1 Axes>"
      ]
     },
     "metadata": {},
     "output_type": "display_data"
    }
   ],
   "source": [
    "plt.plot(loss_list)\n",
    "plt.xlabel('Epochs')\n",
    "plt.ylabel('LOss')\n",
    "plt.show()"
   ]
  },
  {
   "cell_type": "markdown",
   "metadata": {},
   "source": [
    "### accuracy"
   ]
  },
  {
   "cell_type": "code",
   "execution_count": 52,
   "metadata": {},
   "outputs": [],
   "source": [
    "# note all the weights and baises are stored in the model attribute hence we will use that\n",
    "def getaccuracy(x,y):\n",
    "    return (np.sum(model.predict(x)==y))/x.shape[0]"
   ]
  },
  {
   "cell_type": "code",
   "execution_count": 53,
   "metadata": {},
   "outputs": [
    {
     "name": "stdout",
     "output_type": "stream",
     "text": [
      "train acc: 0.9423868312757202\n"
     ]
    }
   ],
   "source": [
    "print(\"train acc:\",getaccuracy(xtrain2,ytrain))"
   ]
  },
  {
   "cell_type": "code",
   "execution_count": 54,
   "metadata": {},
   "outputs": [
    {
     "name": "stdout",
     "output_type": "stream",
     "text": [
      "test acc: 0.6557377049180327\n"
     ]
    }
   ],
   "source": [
    "print(\"test acc:\",getaccuracy(xtest2,ytest))\n",
    "#since there is high differnece in the  test and train acc hence there are high chances of overfitting"
   ]
  },
  {
   "cell_type": "code",
   "execution_count": null,
   "metadata": {},
   "outputs": [],
   "source": []
  },
  {
   "cell_type": "code",
   "execution_count": null,
   "metadata": {},
   "outputs": [],
   "source": []
  },
  {
   "cell_type": "markdown",
   "metadata": {},
   "source": [
    "## 3. confusion matrix"
   ]
  },
  {
   "cell_type": "code",
   "execution_count": 55,
   "metadata": {},
   "outputs": [],
   "source": [
    "from sklearn.metrics import confusion_matrix\n",
    "from visualise import plot_confusion_matrix"
   ]
  },
  {
   "cell_type": "code",
   "execution_count": 54,
   "metadata": {},
   "outputs": [],
   "source": [
    "import sys"
   ]
  },
  {
   "cell_type": "code",
   "execution_count": 59,
   "metadata": {},
   "outputs": [
    {
     "data": {
      "text/plain": [
       "['D:\\\\Jupyter Sketch\\\\999.DS\\\\29.Image(pok.) classification using NN',\n",
       " 'C:\\\\ProgramData\\\\Anaconda3\\\\python37.zip',\n",
       " 'C:\\\\ProgramData\\\\Anaconda3\\\\DLLs',\n",
       " 'C:\\\\ProgramData\\\\Anaconda3\\\\lib',\n",
       " 'C:\\\\ProgramData\\\\Anaconda3',\n",
       " '',\n",
       " 'C:\\\\Users\\\\Acer\\\\AppData\\\\Roaming\\\\Python\\\\Python37\\\\site-packages',\n",
       " 'C:\\\\ProgramData\\\\Anaconda3\\\\lib\\\\site-packages',\n",
       " 'C:\\\\ProgramData\\\\Anaconda3\\\\lib\\\\site-packages\\\\win32',\n",
       " 'C:\\\\ProgramData\\\\Anaconda3\\\\lib\\\\site-packages\\\\win32\\\\lib',\n",
       " 'C:\\\\ProgramData\\\\Anaconda3\\\\lib\\\\site-packages\\\\Pythonwin',\n",
       " 'C:\\\\ProgramData\\\\Anaconda3\\\\lib\\\\site-packages\\\\IPython\\\\extensions',\n",
       " 'C:\\\\Users\\\\Acer\\\\.ipython']"
      ]
     },
     "execution_count": 59,
     "metadata": {},
     "output_type": "execute_result"
    }
   ],
   "source": [
    "sys.path            #just added the visulaise in the site packages now it can be imported"
   ]
  },
  {
   "cell_type": "code",
   "execution_count": 56,
   "metadata": {},
   "outputs": [
    {
     "name": "stdout",
     "output_type": "stream",
     "text": [
      "[[79  3  8]\n",
      " [ 0 70  0]\n",
      " [ 3  0 80]]\n"
     ]
    }
   ],
   "source": [
    "cnfmat=confusion_matrix(model.predict(xtrain2),ytrain)\n",
    "print(cnfmat)"
   ]
  },
  {
   "cell_type": "code",
   "execution_count": 57,
   "metadata": {},
   "outputs": [
    {
     "name": "stdout",
     "output_type": "stream",
     "text": [
      "Confusion matrix, without normalization\n",
      "[[79  3  8]\n",
      " [ 0 70  0]\n",
      " [ 3  0 80]]\n"
     ]
    },
    {
     "data": {
      "image/png": "[encoded data removed]",
      "text/plain": [
       "<Figure size 576x396 with 2 Axes>"
      ]
     },
     "metadata": {},
     "output_type": "display_data"
    }
   ],
   "source": [
    "plot_confusion_matrix(cnfmat,classes=['pikachu','balbasaur','diano'],title=\"CM\")\n",
    "# plt.axis('off')\n",
    "plt.show()"
   ]
  },
  {
   "cell_type": "code",
   "execution_count": 58,
   "metadata": {},
   "outputs": [],
   "source": [
    "# another module\n",
    "from sklearn.metrics import classification_report"
   ]
  },
  {
   "cell_type": "code",
   "execution_count": 59,
   "metadata": {},
   "outputs": [
    {
     "name": "stdout",
     "output_type": "stream",
     "text": [
      "              precision    recall  f1-score   support\n",
      "\n",
      "           0       0.96      0.88      0.92        90\n",
      "           1       0.96      1.00      0.98        70\n",
      "           2       0.91      0.96      0.94        83\n",
      "\n",
      "    accuracy                           0.94       243\n",
      "   macro avg       0.94      0.95      0.94       243\n",
      "weighted avg       0.94      0.94      0.94       243\n",
      "\n"
     ]
    }
   ],
   "source": [
    "print(classification_report(model.predict(xtrain2),ytrain))"
   ]
  },
  {
   "cell_type": "code",
   "execution_count": 60,
   "metadata": {},
   "outputs": [
    {
     "name": "stdout",
     "output_type": "stream",
     "text": [
      "              precision    recall  f1-score   support\n",
      "\n",
      "           0       0.84      0.67      0.74        24\n",
      "           1       0.61      0.89      0.72        19\n",
      "           2       0.50      0.39      0.44        18\n",
      "\n",
      "    accuracy                           0.66        61\n",
      "   macro avg       0.65      0.65      0.64        61\n",
      "weighted avg       0.67      0.66      0.65        61\n",
      "\n"
     ]
    }
   ],
   "source": [
    "# classification_report of test data\n",
    "print(classification_report(model.predict(xtest2),ytest))"
   ]
  },
  {
   "cell_type": "code",
   "execution_count": 62,
   "metadata": {},
   "outputs": [
    {
     "name": "stdout",
     "output_type": "stream",
     "text": [
      "Confusion matrix, without normalization\n",
      "[[16  3  5]\n",
      " [ 0 17  2]\n",
      " [ 3  8  7]]\n"
     ]
    },
    {
     "data": {
      "image/png": "[encoded data removed]",
      "text/plain": [
       "<Figure size 576x396 with 2 Axes>"
      ]
     },
     "metadata": {},
     "output_type": "display_data"
    }
   ],
   "source": [
    "cnfmattest=confusion_matrix(model.predict(xtest2),ytest)\n",
    "plot_confusion_matrix(cnfmattest,classes=['pikachu','balbasaur','diano'],title=\"CM\")\n",
    "# plt.axis('off')\n",
    "plt.show()\n",
    "\n",
    "#it means now i need to fix the overfitting"
   ]
  },
  {
   "cell_type": "markdown",
   "metadata": {},
   "source": [
    "### visualise misclassification"
   ]
  },
  {
   "cell_type": "code",
   "execution_count": 66,
   "metadata": {},
   "outputs": [
    {
     "data": {
      "text/plain": [
       "((61,), (61,))"
      ]
     },
     "execution_count": 66,
     "metadata": {},
     "output_type": "execute_result"
    }
   ],
   "source": [
    "test_output=model.predict(xtest2)\n",
    "test_output.shape,ytest.shape"
   ]
  },
  {
   "cell_type": "code",
   "execution_count": 77,
   "metadata": {},
   "outputs": [],
   "source": [
    "def showimg2(img,l):\n",
    "    plt.imshow(img)                  #these are alredy divided by 255\n",
    "    plt.title(label_dictrev[l])\n",
    "    plt.axis('off')\n",
    "    plt.show()"
   ]
  },
  {
   "cell_type": "code",
   "execution_count": 78,
   "metadata": {},
   "outputs": [
    {
     "data": {
      "image/png": "[encoded data removed]",
      "text/plain": [
       "<Figure size 576x396 with 1 Axes>"
      ]
     },
     "metadata": {},
     "output_type": "display_data"
    },
    {
     "data": {
      "image/png": "[encoded data removed]",
      "text/plain": [
       "<Figure size 576x396 with 1 Axes>"
      ]
     },
     "metadata": {},
     "output_type": "display_data"
    },
    {
     "data": {
      "image/png": "[encoded data removed]",
      "text/plain": [
       "<Figure size 576x396 with 1 Axes>"
      ]
     },
     "metadata": {},
     "output_type": "display_data"
    },
    {
     "data": {
      "image/png": "[encoded data removed]",
      "text/plain": [
       "<Figure size 576x396 with 1 Axes>"
      ]
     },
     "metadata": {},
     "output_type": "display_data"
    },
    {
     "data": {
      "image/png": "[encoded data removed]",
      "text/plain": [
       "<Figure size 576x396 with 1 Axes>"
      ]
     },
     "metadata": {},
     "output_type": "display_data"
    },
    {
     "data": {
      "image/png": "[encoded data removed]",
      "text/plain": [
       "<Figure size 576x396 with 1 Axes>"
      ]
     },
     "metadata": {},
     "output_type": "display_data"
    },
    {
     "data": {
      "image/png": "[encoded data removed]",
      "text/plain": [
       "<Figure size 576x396 with 1 Axes>"
      ]
     },
     "metadata": {},
     "output_type": "display_data"
    },
    {
     "data": {
      "image/png": "[encoded data removed]",
      "text/plain": [
       "<Figure size 576x396 with 1 Axes>"
      ]
     },
     "metadata": {},
     "output_type": "display_data"
    },
    {
     "data": {
      "image/png": "[encoded data removed]",
      "text/plain": [
       "<Figure size 576x396 with 1 Axes>"
      ]
     },
     "metadata": {},
     "output_type": "display_data"
    },
    {
     "data": {
      "image/png": "[encoded data removed]",
      "text/plain": [
       "<Figure size 576x396 with 1 Axes>"
      ]
     },
     "metadata": {},
     "output_type": "display_data"
    },
    {
     "data": {
      "image/png": "[encoded data removed]",
      "text/plain": [
       "<Figure size 576x396 with 1 Axes>"
      ]
     },
     "metadata": {},
     "output_type": "display_data"
    },
    {
     "data": {
      "image/png": "[encoded data removed]",
      "text/plain": [
       "<Figure size 576x396 with 1 Axes>"
      ]
     },
     "metadata": {},
     "output_type": "display_data"
    },
    {
     "data": {
      "image/png": "[encoded data removed]",
      "text/plain": [
       "<Figure size 576x396 with 1 Axes>"
      ]
     },
     "metadata": {},
     "output_type": "display_data"
    },
    {
     "data": {
      "image/png": "[encoded data removed]",
      "text/plain": [
       "<Figure size 576x396 with 1 Axes>"
      ]
     },
     "metadata": {},
     "output_type": "display_data"
    },
    {
     "data": {
      "image/png": "[encoded data removed]",
      "text/plain": [
       "<Figure size 576x396 with 1 Axes>"
      ]
     },
     "metadata": {},
     "output_type": "display_data"
    },
    {
     "data": {
      "image/png": "[encoded data removed]",
      "text/plain": [
       "<Figure size 576x396 with 1 Axes>"
      ]
     },
     "metadata": {},
     "output_type": "display_data"
    },
    {
     "data": {
      "image/png": "[encoded data removed]",
      "text/plain": [
       "<Figure size 576x396 with 1 Axes>"
      ]
     },
     "metadata": {},
     "output_type": "display_data"
    },
    {
     "data": {
      "image/png": "[encoded data removed]",
      "text/plain": [
       "<Figure size 576x396 with 1 Axes>"
      ]
     },
     "metadata": {},
     "output_type": "display_data"
    },
    {
     "data": {
      "image/png": "[encoded data removed]",
      "text/plain": [
       "<Figure size 576x396 with 1 Axes>"
      ]
     },
     "metadata": {},
     "output_type": "display_data"
    },
    {
     "data": {
      "image/png": "[encoded data removed]",
      "text/plain": [
       "<Figure size 576x396 with 1 Axes>"
      ]
     },
     "metadata": {},
     "output_type": "display_data"
    },
    {
     "data": {
      "image/png": "[encoded data removed]",
      "text/plain": [
       "<Figure size 576x396 with 1 Axes>"
      ]
     },
     "metadata": {},
     "output_type": "display_data"
    }
   ],
   "source": [
    "for i in range(ytest.shape[0]):\n",
    "    if(ytest[i]!=test_output[i]):\n",
    "        showimg2(xtest2[i].reshape(40,40,3),test_output[i])       #resize is not working\n",
    "        \n",
    "#note title is the prediction and photo is the test data"
   ]
  },
  {
   "cell_type": "code",
   "execution_count": null,
   "metadata": {},
   "outputs": [],
   "source": []
  }
 ],
 "metadata": {
  "kernelspec": {
   "display_name": "Python 3",
   "language": "python",
   "name": "python3"
  },
  "language_info": {
   "codemirror_mode": {
    "name": "ipython",
    "version": 3
   },
   "file_extension": ".py",
   "mimetype": "text/x-python",
   "name": "python",
   "nbconvert_exporter": "python",
   "pygments_lexer": "ipython3",
   "version": "3.7.3"
  }
 },
 "nbformat": 4,
 "nbformat_minor": 2
}
